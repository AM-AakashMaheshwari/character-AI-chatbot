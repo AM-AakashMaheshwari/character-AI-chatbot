{
 "cells": [
  {
   "cell_type": "markdown",
   "id": "1027b5eb",
   "metadata": {},
   "source": [
    "# CHARCTER AI CHATBOT\n"
   ]
  },
  {
   "cell_type": "markdown",
   "id": "d7eccff2",
   "metadata": {},
   "source": [
    "## Prerequiites\n",
    "1. Have an API key from any LLM model like OpenAI or Gemini or deepseek AI\n",
    "2. create a virtual (.venv) environment"
   ]
  },
  {
   "cell_type": "markdown",
   "id": "ce550910",
   "metadata": {},
   "source": [
    "## Steps to follow:\n",
    "### Step 1: import API key and verify it\n",
    "1. Create a .env file\n",
    "2. Add key to .env\n",
    "3. install OpenAI package\n",
    "4. import .env file and get the API key in a variable using dotenv module\n",
    "5. configure the OpenAI Client (in a variable) using our key.\n",
    "6. verify the key\n"
   ]
  },
  {
   "cell_type": "markdown",
   "id": "84a0f3bc",
   "metadata": {},
   "source": []
  },
  {
   "cell_type": "markdown",
   "id": "1f1c3471",
   "metadata": {},
   "source": [
    "### Step 2: Call API with the message you want to send and get the response\n",
    "\n",
    "1. Define the message you want to send as the user\n",
    "2. make an API call and send your message\n",
    "3. obtain the API's reply from the response object\n",
    "4. print the reply"
   ]
  },
  {
   "cell_type": "markdown",
   "id": "f69bda3d",
   "metadata": {},
   "source": []
  },
  {
   "cell_type": "markdown",
   "id": "27ae1591",
   "metadata": {},
   "source": [
    "### Step 3: Define personality or chacter persona and chat with the it\n",
    "1. define some persona and their characterstics in form of key value pair in the dictionary datatype\n",
    "2. choose the character you want to talk to\n",
    "3. Prepare the system instruction with the character you are choosing\n",
    "4. Define the user message\n",
    "5. Make an API call with system instruction and user message\n",
    "6. Show the AI's reply or response "
   ]
  },
  {
   "cell_type": "markdown",
   "id": "f092e3bd",
   "metadata": {},
   "source": []
  }
 ],
 "metadata": {
  "language_info": {
   "name": "python"
  }
 },
 "nbformat": 4,
 "nbformat_minor": 5
}
